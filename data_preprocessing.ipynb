{
 "cells": [
  {
   "cell_type": "code",
   "execution_count": 4,
   "metadata": {},
   "outputs": [
    {
     "name": "stdout",
     "output_type": "stream",
     "text": [
      "<class 'pandas.core.frame.DataFrame'>\n",
      "RangeIndex: 6218 entries, 0 to 6217\n",
      "Data columns (total 5 columns):\n",
      " #   Column          Non-Null Count  Dtype  \n",
      "---  ------          --------------  -----  \n",
      " 0   Patient_ID      6218 non-null   int64  \n",
      " 1   Health_Camp_ID  6218 non-null   int64  \n",
      " 2   Donation        6218 non-null   int64  \n",
      " 3   Health_Score    6218 non-null   float64\n",
      " 4   Unnamed: 4      0 non-null      float64\n",
      "dtypes: float64(2), int64(3)\n",
      "memory usage: 243.0 KB\n"
     ]
    }
   ],
   "source": [
    "import pandas as pd\n",
    "data = pd.read_csv('First_Health_Camp_Attended.csv')\n",
    "data.info()"
   ]
  },
  {
   "cell_type": "code",
   "execution_count": 5,
   "metadata": {},
   "outputs": [
    {
     "data": {
      "text/html": [
       "<div>\n",
       "<style scoped>\n",
       "    .dataframe tbody tr th:only-of-type {\n",
       "        vertical-align: middle;\n",
       "    }\n",
       "\n",
       "    .dataframe tbody tr th {\n",
       "        vertical-align: top;\n",
       "    }\n",
       "\n",
       "    .dataframe thead th {\n",
       "        text-align: right;\n",
       "    }\n",
       "</style>\n",
       "<table border=\"1\" class=\"dataframe\">\n",
       "  <thead>\n",
       "    <tr style=\"text-align: right;\">\n",
       "      <th></th>\n",
       "      <th>Patient_ID</th>\n",
       "      <th>Health_Camp_ID</th>\n",
       "      <th>Donation</th>\n",
       "      <th>Health_Score</th>\n",
       "      <th>Unnamed: 4</th>\n",
       "    </tr>\n",
       "  </thead>\n",
       "  <tbody>\n",
       "    <tr>\n",
       "      <th>0</th>\n",
       "      <td>506181</td>\n",
       "      <td>6560</td>\n",
       "      <td>40</td>\n",
       "      <td>0.439024</td>\n",
       "      <td>NaN</td>\n",
       "    </tr>\n",
       "    <tr>\n",
       "      <th>1</th>\n",
       "      <td>494977</td>\n",
       "      <td>6560</td>\n",
       "      <td>20</td>\n",
       "      <td>0.097561</td>\n",
       "      <td>NaN</td>\n",
       "    </tr>\n",
       "    <tr>\n",
       "      <th>2</th>\n",
       "      <td>518680</td>\n",
       "      <td>6560</td>\n",
       "      <td>10</td>\n",
       "      <td>0.048780</td>\n",
       "      <td>NaN</td>\n",
       "    </tr>\n",
       "    <tr>\n",
       "      <th>3</th>\n",
       "      <td>509916</td>\n",
       "      <td>6560</td>\n",
       "      <td>30</td>\n",
       "      <td>0.634146</td>\n",
       "      <td>NaN</td>\n",
       "    </tr>\n",
       "    <tr>\n",
       "      <th>4</th>\n",
       "      <td>488006</td>\n",
       "      <td>6560</td>\n",
       "      <td>20</td>\n",
       "      <td>0.024390</td>\n",
       "      <td>NaN</td>\n",
       "    </tr>\n",
       "  </tbody>\n",
       "</table>\n",
       "</div>"
      ],
      "text/plain": [
       "   Patient_ID  Health_Camp_ID  Donation  Health_Score  Unnamed: 4\n",
       "0      506181            6560        40      0.439024         NaN\n",
       "1      494977            6560        20      0.097561         NaN\n",
       "2      518680            6560        10      0.048780         NaN\n",
       "3      509916            6560        30      0.634146         NaN\n",
       "4      488006            6560        20      0.024390         NaN"
      ]
     },
     "execution_count": 5,
     "metadata": {},
     "output_type": "execute_result"
    }
   ],
   "source": [
    "data.head(5)"
   ]
  },
  {
   "cell_type": "code",
   "execution_count": 6,
   "metadata": {},
   "outputs": [
    {
     "data": {
      "text/html": [
       "<div>\n",
       "<style scoped>\n",
       "    .dataframe tbody tr th:only-of-type {\n",
       "        vertical-align: middle;\n",
       "    }\n",
       "\n",
       "    .dataframe tbody tr th {\n",
       "        vertical-align: top;\n",
       "    }\n",
       "\n",
       "    .dataframe thead th {\n",
       "        text-align: right;\n",
       "    }\n",
       "</style>\n",
       "<table border=\"1\" class=\"dataframe\">\n",
       "  <thead>\n",
       "    <tr style=\"text-align: right;\">\n",
       "      <th></th>\n",
       "      <th>Patient_ID</th>\n",
       "      <th>Health_Camp_ID</th>\n",
       "      <th>Donation</th>\n",
       "      <th>Health_Score</th>\n",
       "      <th>Unnamed: 4</th>\n",
       "    </tr>\n",
       "  </thead>\n",
       "  <tbody>\n",
       "    <tr>\n",
       "      <th>count</th>\n",
       "      <td>6218.000000</td>\n",
       "      <td>6218.000000</td>\n",
       "      <td>6218.000000</td>\n",
       "      <td>6218.000000</td>\n",
       "      <td>0.0</td>\n",
       "    </tr>\n",
       "    <tr>\n",
       "      <th>mean</th>\n",
       "      <td>506929.053715</td>\n",
       "      <td>6552.904149</td>\n",
       "      <td>32.587649</td>\n",
       "      <td>0.517668</td>\n",
       "      <td>NaN</td>\n",
       "    </tr>\n",
       "    <tr>\n",
       "      <th>std</th>\n",
       "      <td>12437.711002</td>\n",
       "      <td>19.095027</td>\n",
       "      <td>24.501676</td>\n",
       "      <td>0.289211</td>\n",
       "      <td>NaN</td>\n",
       "    </tr>\n",
       "    <tr>\n",
       "      <th>min</th>\n",
       "      <td>485702.000000</td>\n",
       "      <td>6524.000000</td>\n",
       "      <td>10.000000</td>\n",
       "      <td>0.001667</td>\n",
       "      <td>NaN</td>\n",
       "    </tr>\n",
       "    <tr>\n",
       "      <th>25%</th>\n",
       "      <td>496069.000000</td>\n",
       "      <td>6538.000000</td>\n",
       "      <td>20.000000</td>\n",
       "      <td>0.263094</td>\n",
       "      <td>NaN</td>\n",
       "    </tr>\n",
       "    <tr>\n",
       "      <th>50%</th>\n",
       "      <td>506704.000000</td>\n",
       "      <td>6543.000000</td>\n",
       "      <td>30.000000</td>\n",
       "      <td>0.529706</td>\n",
       "      <td>NaN</td>\n",
       "    </tr>\n",
       "    <tr>\n",
       "      <th>75%</th>\n",
       "      <td>517747.750000</td>\n",
       "      <td>6570.000000</td>\n",
       "      <td>40.000000</td>\n",
       "      <td>0.771429</td>\n",
       "      <td>NaN</td>\n",
       "    </tr>\n",
       "    <tr>\n",
       "      <th>max</th>\n",
       "      <td>528657.000000</td>\n",
       "      <td>6587.000000</td>\n",
       "      <td>330.000000</td>\n",
       "      <td>1.000000</td>\n",
       "      <td>NaN</td>\n",
       "    </tr>\n",
       "  </tbody>\n",
       "</table>\n",
       "</div>"
      ],
      "text/plain": [
       "          Patient_ID  Health_Camp_ID     Donation  Health_Score  Unnamed: 4\n",
       "count    6218.000000     6218.000000  6218.000000   6218.000000         0.0\n",
       "mean   506929.053715     6552.904149    32.587649      0.517668         NaN\n",
       "std     12437.711002       19.095027    24.501676      0.289211         NaN\n",
       "min    485702.000000     6524.000000    10.000000      0.001667         NaN\n",
       "25%    496069.000000     6538.000000    20.000000      0.263094         NaN\n",
       "50%    506704.000000     6543.000000    30.000000      0.529706         NaN\n",
       "75%    517747.750000     6570.000000    40.000000      0.771429         NaN\n",
       "max    528657.000000     6587.000000   330.000000      1.000000         NaN"
      ]
     },
     "execution_count": 6,
     "metadata": {},
     "output_type": "execute_result"
    }
   ],
   "source": [
    "data.describe()"
   ]
  },
  {
   "cell_type": "code",
   "execution_count": 8,
   "metadata": {},
   "outputs": [
    {
     "name": "stdout",
     "output_type": "stream",
     "text": [
      "Missing values in each column:\n",
      " Patient_ID           0\n",
      "Health_Camp_ID       0\n",
      "Donation             0\n",
      "Health_Score         0\n",
      "Unnamed: 4        6218\n",
      "dtype: int64\n"
     ]
    }
   ],
   "source": [
    "missing_values = data.isnull().sum()\n",
    "print(\"Missing values in each column:\\n\", missing_values)"
   ]
  },
  {
   "cell_type": "code",
   "execution_count": 11,
   "metadata": {},
   "outputs": [
    {
     "data": {
      "text/html": [
       "<div>\n",
       "<style scoped>\n",
       "    .dataframe tbody tr th:only-of-type {\n",
       "        vertical-align: middle;\n",
       "    }\n",
       "\n",
       "    .dataframe tbody tr th {\n",
       "        vertical-align: top;\n",
       "    }\n",
       "\n",
       "    .dataframe thead th {\n",
       "        text-align: right;\n",
       "    }\n",
       "</style>\n",
       "<table border=\"1\" class=\"dataframe\">\n",
       "  <thead>\n",
       "    <tr style=\"text-align: right;\">\n",
       "      <th></th>\n",
       "      <th>Patient_ID</th>\n",
       "      <th>Health_Camp_ID</th>\n",
       "      <th>Donation</th>\n",
       "      <th>Health_Score</th>\n",
       "    </tr>\n",
       "  </thead>\n",
       "  <tbody>\n",
       "    <tr>\n",
       "      <th>0</th>\n",
       "      <td>506181</td>\n",
       "      <td>6560</td>\n",
       "      <td>40</td>\n",
       "      <td>0.439024</td>\n",
       "    </tr>\n",
       "    <tr>\n",
       "      <th>1</th>\n",
       "      <td>494977</td>\n",
       "      <td>6560</td>\n",
       "      <td>20</td>\n",
       "      <td>0.097561</td>\n",
       "    </tr>\n",
       "    <tr>\n",
       "      <th>2</th>\n",
       "      <td>518680</td>\n",
       "      <td>6560</td>\n",
       "      <td>10</td>\n",
       "      <td>0.048780</td>\n",
       "    </tr>\n",
       "    <tr>\n",
       "      <th>3</th>\n",
       "      <td>509916</td>\n",
       "      <td>6560</td>\n",
       "      <td>30</td>\n",
       "      <td>0.634146</td>\n",
       "    </tr>\n",
       "    <tr>\n",
       "      <th>4</th>\n",
       "      <td>488006</td>\n",
       "      <td>6560</td>\n",
       "      <td>20</td>\n",
       "      <td>0.024390</td>\n",
       "    </tr>\n",
       "  </tbody>\n",
       "</table>\n",
       "</div>"
      ],
      "text/plain": [
       "   Patient_ID  Health_Camp_ID  Donation  Health_Score\n",
       "0      506181            6560        40      0.439024\n",
       "1      494977            6560        20      0.097561\n",
       "2      518680            6560        10      0.048780\n",
       "3      509916            6560        30      0.634146\n",
       "4      488006            6560        20      0.024390"
      ]
     },
     "execution_count": 11,
     "metadata": {},
     "output_type": "execute_result"
    }
   ],
   "source": [
    "# 불필요한 부분\n",
    "data = data[['Patient_ID', 'Health_Camp_ID', 'Donation','Health_Score']]\n",
    "data.head(5)"
   ]
  },
  {
   "cell_type": "code",
   "execution_count": 12,
   "metadata": {},
   "outputs": [],
   "source": [
    "import numpy as np\n",
    "# 결측값 변환 함수\n",
    "def add_missing_values(df, col_name, missing_frac):\n",
    "    \"\"\"\n",
    "    특정 열에 지정된 비율의 결측값을 추가합니다.\n",
    "    :param df: 데이터프레임\n",
    "    :param col_name: 결측값을 추가할 열 이름\n",
    "    :param missing_frac: 결측값 비율 (0.0 ~ 1.0)\n",
    "    \"\"\"\n",
    "    np.random.seed(42)  # 재현성을 위해 랜덤 시드 설정\n",
    "    n_rows = df.shape[0] # 데이터프레임의 행 수\n",
    "    n_missing = int(n_rows * missing_frac) # 결측값을 추가할 행의 수를 계산\n",
    "\n",
    "    missing_indices = np.random.choice(n_rows, n_missing, replace=False) # 결측값을 추가할 행의 인덱스를 무작위로 선택\n",
    "    df.loc[missing_indices, col_name] = np.nan # 선택된 인덱스의 열 값을 NaN으로 설정"
   ]
  },
  {
   "cell_type": "code",
   "execution_count": 13,
   "metadata": {},
   "outputs": [],
   "source": [
    "add_missing_values(data, 'Donation', 0.1) # Donation 열에 10% 결측값 추가\n",
    "add_missing_values(data, 'Health_Score', 0.1) # Health_Score 열에 10% 결측값 추가"
   ]
  },
  {
   "cell_type": "code",
   "execution_count": 14,
   "metadata": {},
   "outputs": [
    {
     "name": "stdout",
     "output_type": "stream",
     "text": [
      "Data with missing values:\n",
      "       Patient_ID  Health_Camp_ID  Donation  Health_Score\n",
      "6208      525361            6575      20.0      0.431373\n",
      "6209      490682            6575      20.0      0.156863\n",
      "6210      514665            6575       NaN           NaN\n",
      "6211      526888            6575      10.0      0.470588\n",
      "6212      515749            6575      10.0      0.568627\n",
      "6213      502728            6575      10.0      0.509804\n",
      "6214      511088            6575      20.0      0.078431\n",
      "6215      507608            6575      40.0      0.627451\n",
      "6216      488046            6575      50.0      0.686275\n",
      "6217      508766            6575      50.0      0.921569\n",
      "Missing values count:\n",
      " Patient_ID          0\n",
      "Health_Camp_ID      0\n",
      "Donation          621\n",
      "Health_Score      621\n",
      "dtype: int64\n"
     ]
    }
   ],
   "source": [
    "# 결측값이 잘 추가되었는지 확인\n",
    "print(\"Data with missing values:\\n\", data.tail(10))\n",
    "print(\"Missing values count:\\n\", data.isnull().sum())"
   ]
  },
  {
   "cell_type": "code",
   "execution_count": 16,
   "metadata": {},
   "outputs": [],
   "source": [
    "# 숫자 데이터 전처리 - 결측값 처리 (평균값으로 대체)\n",
    "data.fillna({'Donation': data['Donation'].mean()}, inplace=True)\n",
    "data.fillna({'Health_score': data['Health_Score'].mean()}, inplace=True)"
   ]
  },
  {
   "cell_type": "code",
   "execution_count": 17,
   "metadata": {},
   "outputs": [
    {
     "name": "stdout",
     "output_type": "stream",
     "text": [
      "Missing values count:\n",
      " Patient_ID        0\n",
      "Health_Camp_ID    0\n",
      "Donation          0\n",
      "Health_Score      0\n",
      "dtype: int64\n"
     ]
    }
   ],
   "source": [
    "print(\"Missing values count:\\n\", data.isnull().sum())"
   ]
  },
  {
   "cell_type": "code",
   "execution_count": 19,
   "metadata": {},
   "outputs": [
    {
     "name": "stdout",
     "output_type": "stream",
     "text": [
      "Processed Data:\n",
      "    Patient_ID  Health_Camp_ID  Donation  Health_Score\n",
      "0   -0.060149        0.371637  0.317621     -0.286158\n",
      "1   -0.961030        0.371637 -0.540355     -1.532330\n",
      "2    0.944860        0.371637 -0.969343     -1.710354\n",
      "3    0.240172        0.371637 -0.111367      0.425939\n",
      "4   -1.521548        0.371637 -0.540355     -1.799366\n"
     ]
    }
   ],
   "source": [
    "# 전처리 작업의 자동화 (파이프라인 구축)\n",
    "from sklearn.pipeline import Pipeline  # 파이프라인 구축을 위한 클래스\n",
    "from sklearn.impute import SimpleImputer  # 결측값 처리\n",
    "from sklearn.preprocessing import StandardScaler  # 데이터 스케일링\n",
    "\n",
    "# 파이프라인 구축\n",
    "pipeline = Pipeline([\n",
    "    ('imputer', SimpleImputer(strategy='mean')),  # 결측값 대체\n",
    "    ('scaler', StandardScaler())  # 데이터 스케일링\n",
    "])\n",
    "\n",
    "# 데이터 변환\n",
    "processed_data = pipeline.fit_transform(data)\n",
    "\n",
    "# 결과를 데이터프레임으로 변환\n",
    "processed_data_df = pd.DataFrame(processed_data, columns=['Patient_ID', 'Health_Camp_ID', 'Donation','Health_Score'])\n",
    "\n",
    "print(\"Processed Data:\\n\", processed_data_df.head())"
   ]
  },
  {
   "cell_type": "code",
   "execution_count": null,
   "metadata": {},
   "outputs": [],
   "source": []
  }
 ],
 "metadata": {
  "kernelspec": {
   "display_name": "Python 3",
   "language": "python",
   "name": "python3"
  },
  "language_info": {
   "codemirror_mode": {
    "name": "ipython",
    "version": 3
   },
   "file_extension": ".py",
   "mimetype": "text/x-python",
   "name": "python",
   "nbconvert_exporter": "python",
   "pygments_lexer": "ipython3",
   "version": "3.10.11"
  }
 },
 "nbformat": 4,
 "nbformat_minor": 2
}
