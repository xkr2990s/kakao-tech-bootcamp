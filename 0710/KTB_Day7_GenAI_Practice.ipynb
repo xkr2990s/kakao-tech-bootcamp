{
  "cells": [
    {
      "cell_type": "markdown",
      "metadata": {
        "id": "buAxDCkkQTd1"
      },
      "source": [
        "# 데이터 시각화 I 실습\n",
        "\n",
        "막대그래프, 선그래프, 히스토그램, 파이차트, 산점도, 박스플롯을 구현해봅니다.\n",
        "\n",
        "실습에 사용하는 데이터는 https://www.kaggle.com/datasets/nikhil7280/weather-type-classification 데이터입니다.\n",
        "\n",
        "본인이 원하는 다른 데이터가 있다면 다른 데이터를 사용하셔도 좋습니다.\n",
        "\n",
        "데이터에서 적절한 데이터를 선정하여 각 시각화 분석에 적용합니다.\n",
        "\n",
        "시각화를 진행할 때는 차트 뿐만 아니라 범례, 제목, 레이블, 색상, 크기 등 여러가지 요소들을 직접 개발하시면서\n",
        "\n",
        "데이터의 특성을 잘 이해해보시면 좋을 것 같습니다."
      ]
    },
    {
      "cell_type": "code",
      "execution_count": 4,
      "metadata": {
        "id": "vEIM7zOnSHRS"
      },
      "outputs": [],
      "source": [
        "# 기본 라이브러리\n",
        "import matplotlib.pyplot as plt\n",
        "import pandas as pd\n",
        "import seaborn as sns\n",
        "import numpy as np"
      ]
    },
    {
      "cell_type": "code",
      "execution_count": 13,
      "metadata": {},
      "outputs": [
        {
          "name": "stdout",
          "output_type": "stream",
          "text": [
            "<class 'pandas.core.frame.DataFrame'>\n",
            "RangeIndex: 374 entries, 0 to 373\n",
            "Data columns (total 13 columns):\n",
            " #   Column                   Non-Null Count  Dtype  \n",
            "---  ------                   --------------  -----  \n",
            " 0   Person ID                374 non-null    int64  \n",
            " 1   Gender                   374 non-null    object \n",
            " 2   Age                      374 non-null    int64  \n",
            " 3   Occupation               374 non-null    object \n",
            " 4   Sleep Duration           374 non-null    float64\n",
            " 5   Quality of Sleep         374 non-null    int64  \n",
            " 6   Physical Activity Level  374 non-null    int64  \n",
            " 7   Stress Level             374 non-null    int64  \n",
            " 8   BMI Category             374 non-null    object \n",
            " 9   Blood Pressure           374 non-null    object \n",
            " 10  Heart Rate               374 non-null    int64  \n",
            " 11  Daily Steps              374 non-null    int64  \n",
            " 12  Sleep Disorder           155 non-null    object \n",
            "dtypes: float64(1), int64(7), object(5)\n",
            "memory usage: 38.1+ KB\n"
          ]
        },
        {
          "data": {
            "text/html": [
              "<div>\n",
              "<style scoped>\n",
              "    .dataframe tbody tr th:only-of-type {\n",
              "        vertical-align: middle;\n",
              "    }\n",
              "\n",
              "    .dataframe tbody tr th {\n",
              "        vertical-align: top;\n",
              "    }\n",
              "\n",
              "    .dataframe thead th {\n",
              "        text-align: right;\n",
              "    }\n",
              "</style>\n",
              "<table border=\"1\" class=\"dataframe\">\n",
              "  <thead>\n",
              "    <tr style=\"text-align: right;\">\n",
              "      <th></th>\n",
              "      <th>Person ID</th>\n",
              "      <th>Age</th>\n",
              "      <th>Sleep Duration</th>\n",
              "      <th>Quality of Sleep</th>\n",
              "      <th>Physical Activity Level</th>\n",
              "      <th>Stress Level</th>\n",
              "      <th>Heart Rate</th>\n",
              "      <th>Daily Steps</th>\n",
              "    </tr>\n",
              "  </thead>\n",
              "  <tbody>\n",
              "    <tr>\n",
              "      <th>count</th>\n",
              "      <td>374.000000</td>\n",
              "      <td>374.000000</td>\n",
              "      <td>374.000000</td>\n",
              "      <td>374.000000</td>\n",
              "      <td>374.000000</td>\n",
              "      <td>374.000000</td>\n",
              "      <td>374.000000</td>\n",
              "      <td>374.000000</td>\n",
              "    </tr>\n",
              "    <tr>\n",
              "      <th>mean</th>\n",
              "      <td>187.500000</td>\n",
              "      <td>42.184492</td>\n",
              "      <td>7.132086</td>\n",
              "      <td>7.312834</td>\n",
              "      <td>59.171123</td>\n",
              "      <td>5.385027</td>\n",
              "      <td>70.165775</td>\n",
              "      <td>6816.844920</td>\n",
              "    </tr>\n",
              "    <tr>\n",
              "      <th>std</th>\n",
              "      <td>108.108742</td>\n",
              "      <td>8.673133</td>\n",
              "      <td>0.795657</td>\n",
              "      <td>1.196956</td>\n",
              "      <td>20.830804</td>\n",
              "      <td>1.774526</td>\n",
              "      <td>4.135676</td>\n",
              "      <td>1617.915679</td>\n",
              "    </tr>\n",
              "    <tr>\n",
              "      <th>min</th>\n",
              "      <td>1.000000</td>\n",
              "      <td>27.000000</td>\n",
              "      <td>5.800000</td>\n",
              "      <td>4.000000</td>\n",
              "      <td>30.000000</td>\n",
              "      <td>3.000000</td>\n",
              "      <td>65.000000</td>\n",
              "      <td>3000.000000</td>\n",
              "    </tr>\n",
              "    <tr>\n",
              "      <th>25%</th>\n",
              "      <td>94.250000</td>\n",
              "      <td>35.250000</td>\n",
              "      <td>6.400000</td>\n",
              "      <td>6.000000</td>\n",
              "      <td>45.000000</td>\n",
              "      <td>4.000000</td>\n",
              "      <td>68.000000</td>\n",
              "      <td>5600.000000</td>\n",
              "    </tr>\n",
              "    <tr>\n",
              "      <th>50%</th>\n",
              "      <td>187.500000</td>\n",
              "      <td>43.000000</td>\n",
              "      <td>7.200000</td>\n",
              "      <td>7.000000</td>\n",
              "      <td>60.000000</td>\n",
              "      <td>5.000000</td>\n",
              "      <td>70.000000</td>\n",
              "      <td>7000.000000</td>\n",
              "    </tr>\n",
              "    <tr>\n",
              "      <th>75%</th>\n",
              "      <td>280.750000</td>\n",
              "      <td>50.000000</td>\n",
              "      <td>7.800000</td>\n",
              "      <td>8.000000</td>\n",
              "      <td>75.000000</td>\n",
              "      <td>7.000000</td>\n",
              "      <td>72.000000</td>\n",
              "      <td>8000.000000</td>\n",
              "    </tr>\n",
              "    <tr>\n",
              "      <th>max</th>\n",
              "      <td>374.000000</td>\n",
              "      <td>59.000000</td>\n",
              "      <td>8.500000</td>\n",
              "      <td>9.000000</td>\n",
              "      <td>90.000000</td>\n",
              "      <td>8.000000</td>\n",
              "      <td>86.000000</td>\n",
              "      <td>10000.000000</td>\n",
              "    </tr>\n",
              "  </tbody>\n",
              "</table>\n",
              "</div>"
            ],
            "text/plain": [
              "        Person ID         Age  Sleep Duration  Quality of Sleep  \\\n",
              "count  374.000000  374.000000      374.000000        374.000000   \n",
              "mean   187.500000   42.184492        7.132086          7.312834   \n",
              "std    108.108742    8.673133        0.795657          1.196956   \n",
              "min      1.000000   27.000000        5.800000          4.000000   \n",
              "25%     94.250000   35.250000        6.400000          6.000000   \n",
              "50%    187.500000   43.000000        7.200000          7.000000   \n",
              "75%    280.750000   50.000000        7.800000          8.000000   \n",
              "max    374.000000   59.000000        8.500000          9.000000   \n",
              "\n",
              "       Physical Activity Level  Stress Level  Heart Rate   Daily Steps  \n",
              "count               374.000000    374.000000  374.000000    374.000000  \n",
              "mean                 59.171123      5.385027   70.165775   6816.844920  \n",
              "std                  20.830804      1.774526    4.135676   1617.915679  \n",
              "min                  30.000000      3.000000   65.000000   3000.000000  \n",
              "25%                  45.000000      4.000000   68.000000   5600.000000  \n",
              "50%                  60.000000      5.000000   70.000000   7000.000000  \n",
              "75%                  75.000000      7.000000   72.000000   8000.000000  \n",
              "max                  90.000000      8.000000   86.000000  10000.000000  "
            ]
          },
          "execution_count": 13,
          "metadata": {},
          "output_type": "execute_result"
        }
      ],
      "source": [
        "data = pd.read_csv('Sleep_health_and_lifestyle_dataset.csv')\n",
        "data.info()\n",
        "data.head(5)\n",
        "data.describe()"
      ]
    },
    {
      "cell_type": "code",
      "execution_count": 18,
      "metadata": {},
      "outputs": [
        {
          "name": "stdout",
          "output_type": "stream",
          "text": [
            "Missing values in each column:\n",
            " Person ID                    0\n",
            "Gender                       0\n",
            "Age                          0\n",
            "Occupation                   0\n",
            "Sleep Duration               0\n",
            "Quality of Sleep             0\n",
            "Physical Activity Level      0\n",
            "Stress Level                 0\n",
            "BMI Category                 0\n",
            "Blood Pressure               0\n",
            "Heart Rate                   0\n",
            "Daily Steps                  0\n",
            "Sleep Disorder             219\n",
            "dtype: int64\n"
          ]
        }
      ],
      "source": [
        "missing_values = data.isnull().sum()\n",
        "print(\"Missing values in each column:\\n\", missing_values)\n",
        "stress_level = data.loc[:,'Stress Level']\n",
        "quality_of_sleep = data.loc[:,'Quality of Sleep']"
      ]
    },
    {
      "cell_type": "code",
      "execution_count": 27,
      "metadata": {
        "id": "b1cYOqOCQRSA"
      },
      "outputs": [
        {
          "data": {
            "image/png": "[encoded data removed]",
            "text/plain": [
              "<Figure size 1000x600 with 1 Axes>"
            ]
          },
          "metadata": {},
          "output_type": "display_data"
        }
      ],
      "source": [
        "# 1. 막대그래프\n",
        "plt.figure(figsize=(10,6))\n",
        "plt.bar(stress_level, quality_of_sleep)\n",
        "plt.title('Stress to Sleep')\n",
        "plt.xlabel('Stress Level')\n",
        "plt.ylabel('Quality of Sleep')\n",
        "plt.show()"
      ]
    },
    {
      "cell_type": "code",
      "execution_count": null,
      "metadata": {
        "id": "pK4pzvEaQ9Hf"
      },
      "outputs": [],
      "source": [
        "# 2. 선그래프"
      ]
    },
    {
      "cell_type": "code",
      "execution_count": null,
      "metadata": {
        "id": "T8YwTHlPRAQq"
      },
      "outputs": [],
      "source": [
        "# 3. 히스토그램"
      ]
    },
    {
      "cell_type": "code",
      "execution_count": null,
      "metadata": {
        "id": "nc4Mezo8RAom"
      },
      "outputs": [],
      "source": [
        "# 4. 파이차트"
      ]
    },
    {
      "cell_type": "code",
      "execution_count": null,
      "metadata": {
        "id": "DrymE1hLRAcn"
      },
      "outputs": [],
      "source": [
        "# 5. 산점도"
      ]
    },
    {
      "cell_type": "code",
      "execution_count": null,
      "metadata": {
        "id": "e99Sh2JCRAFo"
      },
      "outputs": [],
      "source": [
        "# 6. 박스플롯"
      ]
    },
    {
      "cell_type": "code",
      "execution_count": null,
      "metadata": {
        "id": "7kHbTVvqvshK"
      },
      "outputs": [],
      "source": [
        "# 7. 여러 시각화 차트 합쳐보기"
      ]
    }
  ],
  "metadata": {
    "colab": {
      "provenance": []
    },
    "kernelspec": {
      "display_name": "Python 3",
      "name": "python3"
    },
    "language_info": {
      "codemirror_mode": {
        "name": "ipython",
        "version": 3
      },
      "file_extension": ".py",
      "mimetype": "text/x-python",
      "name": "python",
      "nbconvert_exporter": "python",
      "pygments_lexer": "ipython3",
      "version": "3.10.11"
    }
  },
  "nbformat": 4,
  "nbformat_minor": 0
}
