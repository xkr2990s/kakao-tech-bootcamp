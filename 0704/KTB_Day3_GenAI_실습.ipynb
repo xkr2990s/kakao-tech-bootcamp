{
  "cells": [
    {
      "cell_type": "markdown",
      "metadata": {
        "id": "zr5LnyrKxjNd"
      },
      "source": [
        "# 파이썬 프로그래밍 종합 실습\n",
        "기본 문법 복습, 자료형, 함수, 클래스와 객체지향 프로그래밍, 제너레이터와 이터레이터, 파일 입출력, 예외 처리를 종합적으로 활용합니다."
      ]
    },
    {
      "cell_type": "markdown",
      "metadata": {
        "id": "MwJQm7MJxvAk"
      },
      "source": [
        "1. 파이썬 기본 문법 복습 및 자료형\n",
        "\n",
        "문제:\n",
        "\n",
        "사용자로부터 이름, 나이, 이메일을 입력받아 딕셔너리에 저장하는 프로그램을 작성하세요.\n",
        "\n",
        "나이와 이메일의 형식을 검증하고, 잘못된 입력이 있으면 예외 처리를 하세요."
      ]
    },
    {
      "cell_type": "code",
      "execution_count": 13,
      "metadata": {
        "id": "yKTAculHxfMp"
      },
      "outputs": [
        {
          "name": "stdout",
          "output_type": "stream",
          "text": [
            "name: a\n",
            "age: 10\n",
            "email: a@.a\n"
          ]
        }
      ],
      "source": [
        "class NotEmailFormError(Exception):\n",
        "    def __init__(self):\n",
        "        super().__init__(\"올바른 이메일 형식이 아닙니다.\")\n",
        "\n",
        "def validate_age(age):\n",
        "    try:\n",
        "        age = int(age)\n",
        "    except ValueError as e:\n",
        "        print(\"나이에 숫자를 입력하세요:\", e)\n",
        "    return age\n",
        "\n",
        "def validate_email(email):\n",
        "    try:\n",
        "        if not ('@'and'.') in email:\n",
        "            raise NotEmailFormError\n",
        "    except Exception as e:\n",
        "        print(\"예외 발생:\", e)\n",
        "    return email\n",
        "\n",
        "name, age, email = input().split()\n",
        "print(f\"name: {name}\")\n",
        "print(f\"age: {validate_age(age)}\")\n",
        "print(f\"email: {validate_email(email)}\")"
      ]
    },
    {
      "cell_type": "markdown",
      "metadata": {
        "id": "in-rBALsyK33"
      },
      "source": [
        "2. 함수 및 클래스와 객체지향 프로그래밍\n",
        "\n",
        "문제:\n",
        "\n",
        "간단한 계산기 클래스를 작성하세요. 이 클래스는 덧셈, 뺄셈, 곱셈, 나눗셈 메서드를 포함합니다.\n",
        "\n",
        "사용자로부터 두 숫자와 연산자를 입력받아 계산 결과를 출력하는 프로그램을 작성하세요."
      ]
    },
    {
      "cell_type": "code",
      "execution_count": 9,
      "metadata": {
        "id": "v-Yn0ydQyQMO"
      },
      "outputs": [
        {
          "name": "stdout",
          "output_type": "stream",
          "text": [
            "숫자를 입력하세요 invalid literal for int() with base 10: 'a'\n"
          ]
        }
      ],
      "source": [
        "class Calculator:\n",
        "    def __init__(self, a, b):\n",
        "        self.a = a\n",
        "        self.b = b\n",
        "\n",
        "    def add(self):\n",
        "        return f\"{self.a} + {self.b} = {self.a + self.b}\"\n",
        "    def min(self):\n",
        "        return f\"{self.a} - {self.b} = {self.a - self.b}\"\n",
        "    def mul(self):\n",
        "        return f\"{self.a} * {self.b} = {self.a * self.b}\"\n",
        "    def div(self):\n",
        "        try:\n",
        "            return f\"{self.a} / {self.b} = {self.a / self.b}\"\n",
        "        except ZeroDivisionError as e:\n",
        "            print(\"0으로 나눌 수 없습니다:\", e)\n",
        "        \n",
        "\n",
        "a, b, oper = input().split()\n",
        "try:\n",
        "    cal = Calculator(int(a), int(b))\n",
        "except ValueError as e:\n",
        "    print(\"숫자를 입력하세요:\", e)\n",
        "\n",
        "if oper == '+':\n",
        "    print(cal.add())\n",
        "elif oper == '-':\n",
        "    print(cal.min())\n",
        "elif oper == '*':\n",
        "    print(cal.mul())\n",
        "elif oper == '/':\n",
        "    print(cal.div())"
      ]
    },
    {
      "cell_type": "markdown",
      "metadata": {
        "id": "OlDjuxSlyZOi"
      },
      "source": [
        "3. 제너레이터와 이터레이터\n",
        "\n",
        "문제:\n",
        "\n",
        "피보나치 수열을 생성하는 제너레이터 함수를 작성하세요.\n",
        "피보나치 수열의 첫 10개 값을 출력하세요."
      ]
    },
    {
      "cell_type": "code",
      "execution_count": 16,
      "metadata": {
        "id": "BkI1jD4GydEa"
      },
      "outputs": [
        {
          "name": "stdout",
          "output_type": "stream",
          "text": [
            "1\n",
            "1\n",
            "2\n",
            "3\n",
            "5\n",
            "8\n",
            "13\n",
            "21\n",
            "34\n",
            "55\n"
          ]
        }
      ],
      "source": [
        "def fibonacci(n):\n",
        "    a = 1\n",
        "    b = 1\n",
        "    for _ in range(n):\n",
        "        yield a\n",
        "        a,b = b, a+b\n",
        "\n",
        "for num in fibonacci(10):\n",
        "    print(num)"
      ]
    },
    {
      "cell_type": "markdown",
      "metadata": {
        "id": "O-_Q0pRUycx0"
      },
      "source": [
        "4. 파일 입출력\n",
        "\n",
        "문제:\n",
        "\n",
        "사용자로부터 입력받은 데이터를 파일에 저장하고, 파일 내용을 읽어 출력하는 프로그램을 작성하세요.\n",
        "\n",
        "데이터는 JSON 형식으로 저장하세요"
      ]
    },
    {
      "cell_type": "code",
      "execution_count": 3,
      "metadata": {
        "id": "nyLTxXTHyqKE"
      },
      "outputs": [
        {
          "name": "stdout",
          "output_type": "stream",
          "text": [
            "{'squadName': 'Super hero squad', 'homeTown': 'Metro City', 'formed': 2016, 'secretBase': 'Super tower', 'active': True, 'members': [{'name': 'Molecule Man', 'age': 29, 'secretIdentity': 'Dan Jukes', 'powers': ['Radiation resistance', 'Turning tiny', 'Radiation blast']}, {'name': 'Madame Uppercut', 'age': 39, 'secretIdentity': 'Jane Wilson', 'powers': ['Million tonne punch', 'Damage resistance', 'Superhuman reflexes']}, {'name': 'Eternal Flame', 'age': 1000000, 'secretIdentity': 'Unknown', 'powers': ['Immortality', 'Heat Immunity', 'Inferno', 'Teleportation', 'Interdimensional travel']}]}\n"
          ]
        }
      ],
      "source": [
        "import json\n",
        "data = {\n",
        "    \"squadName\": \"Super hero squad\",\n",
        "    \"homeTown\": \"Metro City\",\n",
        "    \"formed\": 2016,\n",
        "    \"secretBase\": \"Super tower\",\n",
        "    \"active\": True,\n",
        "    \"members\": [\n",
        "        {\n",
        "            \"name\": \"Molecule Man\",\n",
        "            \"age\": 29,\n",
        "            \"secretIdentity\": \"Dan Jukes\",\n",
        "            \"powers\": [\"Radiation resistance\", \"Turning tiny\", \"Radiation blast\"]\n",
        "        },\n",
        "        {\n",
        "            \"name\": \"Madame Uppercut\",\n",
        "            \"age\": 39,\n",
        "            \"secretIdentity\": \"Jane Wilson\",\n",
        "            \"powers\": [\n",
        "                \"Million tonne punch\",\n",
        "                \"Damage resistance\",\n",
        "                \"Superhuman reflexes\"\n",
        "            ]\n",
        "        },\n",
        "        {\n",
        "            \"name\": \"Eternal Flame\",\n",
        "            \"age\": 1000000,\n",
        "            \"secretIdentity\": \"Unknown\",\n",
        "            \"powers\": [\n",
        "                \"Immortality\",\n",
        "                \"Heat Immunity\",\n",
        "                \"Inferno\",\n",
        "                \"Teleportation\",\n",
        "                \"Interdimensional travel\"\n",
        "            ]\n",
        "        }\n",
        "    ]\n",
        "}\n",
        "\n",
        "with open('example.json', 'w') as file:\n",
        "    json.dump(data, file)\n",
        "\n",
        "with open('example.json', 'r') as file:\n",
        "    print(json.load(file))"
      ]
    },
    {
      "cell_type": "markdown",
      "metadata": {
        "id": "snEMYElhy3Q3"
      },
      "source": [
        "5. Database 연동\n",
        "\n",
        "문제:\n",
        "\n",
        "SQLite 데이터베이스에 사용자 정보를 저장하고, 저장된 데이터를 조회하여 출력하는 프로그램을 작성하세요.\n",
        "\n",
        "테이블은 users로 하고, id, name, age, email 컬럼을 포함합니다."
      ]
    },
    {
      "cell_type": "code",
      "execution_count": 12,
      "metadata": {
        "id": "d8BgUC0ky6_b"
      },
      "outputs": [
        {
          "name": "stdout",
          "output_type": "stream",
          "text": [
            "(1, 'teddy', 21, 'teddy@address.com')\n",
            "(2, 'alex', 23, 'alex@address.com')\n",
            "(3, 'selina', 27, 'selina@address.com')\n",
            "(4, 'sily', 25, 'sily@address.com')\n"
          ]
        }
      ],
      "source": [
        "import sqlite3\n",
        "\n",
        "connection = sqlite3.connect('./example.db')\n",
        "cursor = connection.cursor()\n",
        "#cursor.execute(\"CREATE TABLE Users(Id, Name, Age, Email);\")\n",
        "\n",
        "data = (\n",
        "  (1, 'teddy', 21, 'teddy@address.com'),\n",
        "  (2, 'alex', 23, 'alex@address.com'),\n",
        "  (3, 'selina', 27, 'selina@address.com'),\n",
        "  (4, 'sily', 25, 'sily@address.com')\n",
        ")\n",
        "\n",
        "cursor.executemany(\"INSERT INTO Users VALUES(?,?,?,?);\", data)\n",
        "cursor.execute(\"SELECT * FROM Users\")\n",
        "\n",
        "for user in cursor:\n",
        "  print(user)"
      ]
    },
    {
      "cell_type": "markdown",
      "metadata": {
        "id": "qFd9nMWdzMaw"
      },
      "source": [
        "6. 예외 처리\n",
        "\n",
        "문제:\n",
        "\n",
        "사용자로부터 숫자를 입력받아, 그 숫자를 10으로 나누는 프로그램을 작성하세요.\n",
        "\n",
        "0으로 나누는 경우와 숫자가 아닌 값을 입력받는 경우를 처리하세요."
      ]
    },
    {
      "cell_type": "code",
      "execution_count": 11,
      "metadata": {
        "id": "B_0S33jOzPDJ"
      },
      "outputs": [
        {
          "name": "stdout",
          "output_type": "stream",
          "text": [
            "1.0\n"
          ]
        }
      ],
      "source": [
        "try:\n",
        "    num = int(input())\n",
        "    print(num / 10)\n",
        "except ValueError as e:\n",
        "    print(\"숫자를 입력하세요:\", e)\n",
        "except ZeroDivisionError as e:\n",
        "    print(\"0으로 나눌 수 없습니다:\", e)"
      ]
    },
    {
      "cell_type": "code",
      "execution_count": null,
      "metadata": {},
      "outputs": [],
      "source": []
    }
  ],
  "metadata": {
    "colab": {
      "provenance": []
    },
    "kernelspec": {
      "display_name": "Python 3",
      "name": "python3"
    },
    "language_info": {
      "codemirror_mode": {
        "name": "ipython",
        "version": 3
      },
      "file_extension": ".py",
      "mimetype": "text/x-python",
      "name": "python",
      "nbconvert_exporter": "python",
      "pygments_lexer": "ipython3",
      "version": "3.10.11"
    }
  },
  "nbformat": 4,
  "nbformat_minor": 0
}
