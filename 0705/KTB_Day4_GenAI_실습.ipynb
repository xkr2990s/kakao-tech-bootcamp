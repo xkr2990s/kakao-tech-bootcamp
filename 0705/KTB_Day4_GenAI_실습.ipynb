{
  "cells": [
    {
      "cell_type": "markdown",
      "metadata": {
        "id": "o2A6nokuDOFH"
      },
      "source": [
        "# 파이썬 프로그래밍 II 종합 실습\n",
        "\n",
        "collections 모듈, comprehension, logging, 정규표현식, 멀티스레딩, 멀티프로세싱을 활용합니다.\n",
        "\n"
      ]
    },
    {
      "cell_type": "markdown",
      "metadata": {
        "id": "wSeIu_4nDSsP"
      },
      "source": [
        "과제 1: Collections 모듈 활용\n",
        "\n",
        "EXAMPLE_SEQUENCE 값을 활용해보세요.\n",
        "\n",
        "1. Deque: Deque를 생성하고, 요소를 추가하고 제거하는 작업을 해보세요.\n",
        "\n",
        "2. Namedtuple: Namedtuple을 정의하고 인스턴스를 생성해보세요.\n",
        "\n",
        "3. Defaultdict: Defaultdict를 사용해보세요. 키가 없을 때 기본값을 설정하세요.\n",
        "\n",
        "4. Counter: Counter를 사용해 리스트에서 각 요소의 빈도를 세어보세요."
      ]
    },
    {
      "cell_type": "code",
      "execution_count": 10,
      "metadata": {
        "id": "DOHabDfaDMyp"
      },
      "outputs": [
        {
          "name": "stdout",
          "output_type": "stream",
          "text": [
            "Deque: deque(['cow', 'dog', 'cat', 'mouse', 'parrot'])\n",
            "NamedTup: Animal(name='parrot', color='black')\n",
            "DefalutDict: defaultdict(None, {'mouse': 3})\n",
            "Counter: Counter({'dog': 1, 'cat': 1, 'mouse': 1, 'parrot': 1, 'frog': 1})\n"
          ]
        }
      ],
      "source": [
        "from collections import deque, namedtuple, defaultdict, Counter\n",
        "EXAMPLE_SEQUENCE = ['dog', 'cat', 'mouse', 'parrot', 'frog']\n",
        "\n",
        "dq = deque(EXAMPLE_SEQUENCE)\n",
        "dq.appendleft('cow')\n",
        "dq.pop()\n",
        "print('Deque:', dq)\n",
        "\n",
        "Animal = namedtuple('Animal', 'name color')\n",
        "cow = Animal(name=EXAMPLE_SEQUENCE[3], color='black')\n",
        "print('NamedTup:', cow)\n",
        "\n",
        "dd = defaultdict()\n",
        "dd[EXAMPLE_SEQUENCE[2]] = 3\n",
        "print('DefalutDict:', dd)\n",
        "\n",
        "cnt = Counter(EXAMPLE_SEQUENCE)\n",
        "print('Counter:', cnt)"
      ]
    },
    {
      "cell_type": "markdown",
      "metadata": {
        "id": "VUAClu_dD07F"
      },
      "source": [
        "과제 2: Comprehension 활용\n",
        "\n",
        "EXAMPLE_SEQUENCE 값을 활용해보세요.\n",
        "\n",
        "1. 리스트 컴프리헨션: 숫자 리스트의 제곱값을 구하세요.\n",
        "\n",
        "2. 딕셔너리 컴프리헨션: 키가 숫자이고 값이 그 숫자의 제곱인 딕셔너리를 생성하세요.\n",
        "\n",
        "3. 집합 컴프리헨션: 중복된 값을 제거한 제곱값 집합을 생성하세요."
      ]
    },
    {
      "cell_type": "code",
      "execution_count": 19,
      "metadata": {
        "id": "UXRdE3o0EDwK"
      },
      "outputs": [
        {
          "name": "stdout",
          "output_type": "stream",
          "text": [
            "list comp: [1, 16, 144, 81, 484, 25, 1, 81]\n",
            "dict comp: {1: 1, 4: 16, 12: 144, 9: 81, 22: 484, 5: 25}\n",
            "set comp: [1, 16, 25, 81, 144, 484]\n"
          ]
        }
      ],
      "source": [
        "EXAMPLE_SEQUENCE = [1, 4, 12, 9, 22, 5, 1, 9]\n",
        "\n",
        "squared_nums = [x**2 for x in EXAMPLE_SEQUENCE]\n",
        "print('list comp:', squared_nums)\n",
        "\n",
        "squared_dict = {x: x**2 for x in EXAMPLE_SEQUENCE}\n",
        "print('dict comp:', squared_dict)\n",
        "\n",
        "squared_set = [x**2 for x in set(EXAMPLE_SEQUENCE)]\n",
        "print('set comp:', squared_set)"
      ]
    },
    {
      "cell_type": "markdown",
      "metadata": {
        "id": "j-42IEV_Ec35"
      },
      "source": [
        "과제 3: Logging 활용\n",
        "\n",
        "1. 기본 로깅 설정: 로깅을 설정하고 정보를 로깅하세요. 로그의 형태는 '시간 - 에러레벨 - 메시지' 입니다.\n",
        "\n",
        "2. 예외 로깅: 예외가 발생했을 때 에러를 로깅하세요."
      ]
    },
    {
      "cell_type": "code",
      "execution_count": 24,
      "metadata": {
        "id": "Q7jfbpQTEz8N"
      },
      "outputs": [
        {
          "name": "stderr",
          "output_type": "stream",
          "text": [
            "2024-07-05 14:03:40,226 - INFO - it is num\n",
            "2024-07-05 14:03:40,228 - ERROR - it is not num\n"
          ]
        },
        {
          "name": "stdout",
          "output_type": "stream",
          "text": [
            "first test: 10\n",
            "second test: None\n"
          ]
        }
      ],
      "source": [
        "import logging\n",
        "\n",
        "logging.basicConfig(level=logging.DEBUG, format='%(asctime)s - %(levelname)s - %(message)s')\n",
        "logger = logging.getLogger(__name__)\n",
        "\n",
        "def isNum(data):\n",
        "    try:\n",
        "        num = int(data)\n",
        "        logger.info(\"it is num\")\n",
        "        return num\n",
        "    except ValueError:\n",
        "        logger.error(\"it is not num\")\n",
        "        return None\n",
        "\n",
        "# 로깅 테스트\n",
        "print(\"first test:\", isNum(10))\n",
        "print(\"second test:\", isNum('aa'))\n"
      ]
    },
    {
      "cell_type": "markdown",
      "metadata": {
        "id": "VGcHabOVE4mI"
      },
      "source": [
        "과제 4: 정규 표현식 사용\n",
        "\n",
        "1. 기본 패턴 매칭: 이메일 주소를 추출하세요.\n",
        "\n",
        "2. 기본 패턴 매칭: 비식별화를 진행하세요. ID를 앞 3글자 이외는 모두 '*'로 변경합니다.\n",
        "\n",
        "3. 고급 패턴 매칭: HTML 태그를 제거하세요."
      ]
    },
    {
      "cell_type": "code",
      "execution_count": 35,
      "metadata": {
        "id": "I-9AqxWWE59J"
      },
      "outputs": [
        {
          "name": "stdout",
          "output_type": "stream",
          "text": [
            "이메일: ['kakaotech@goorm.io']\n",
            "아이디: ['jhi*****', 'lov********', '세종대*****', 'twi*******', 'Pos*******']\n",
            "태그: Hello, World!\n"
          ]
        }
      ],
      "source": [
        "import re\n",
        "\n",
        "email = \"MY name is Jhin, my email is kakaotech@goorm.io\"\n",
        "email_pattern = r'\\b[A-Za-z0-9._$+-]+@[A-Za-z0-9.-]+\\.[A-Za-z]{2,7}\\b'\n",
        "print('이메일:', re.findall(email_pattern, email))\n",
        "\n",
        "\n",
        "def id_deidentification(id):\n",
        "  id_pattern = r'^(.{3})(.*)'\n",
        "  return re.sub(id_pattern, lambda m: m.group(1) + '*' * len(m.group(2)), id)\n",
        "\n",
        "id_list = [\"jhin.lee\", \"lovelove123\", \"세종대왕만세!!\", \"twin에너지123\", \"PostModern\"]\n",
        "print('아이디:', list(map(id_deidentification,id_list)))\n",
        "\n",
        "\n",
        "html = \"<p>Hello, <b>World!</b></p>\"\n",
        "html_pattern = r\"<.*?>\"\n",
        "print('태그:', re.sub(html_pattern, \"\",html))\n"
      ]
    },
    {
      "cell_type": "markdown",
      "metadata": {
        "id": "tOrX28FZFOYA"
      },
      "source": [
        "과제 5: 멀티스레딩과 멀티프로세싱\n",
        "\n",
        "1. 스레딩: 한 개의 스레드를 생성하고 실행하는 함수를 작성해주세요.\n",
        "\n",
        "2. 멀티스레딩: 두 개의 스레드를 생성하고 실행하세요.\n",
        "\n",
        "3. 멀티프로세싱: 두 개의 프로세스를 생성하고 실행하세요."
      ]
    },
    {
      "cell_type": "code",
      "execution_count": 76,
      "metadata": {
        "id": "6t3JDv6eFOEk"
      },
      "outputs": [
        {
          "name": "stdout",
          "output_type": "stream",
          "text": [
            "global: 0\n",
            "local: 0\n",
            "global: 1\n",
            "local: 1\n",
            "global: 2\n",
            "local: 2\n",
            "global: 3\n",
            "local: 3\n",
            "global: 4\n",
            "local: 4\n",
            "global: 5\n",
            "local: 0\n",
            "global: 6\n",
            "local: 0\n",
            "global: 7\n",
            "local: 1\n",
            "global: 8\n",
            "local: 1\n",
            "global: 9\n",
            "local: 2\n",
            "global: 10\n",
            "local: 2\n",
            "global: 11\n",
            "local: 3\n",
            "global: 12\n",
            "local: 3\n",
            "global:global: 13\n",
            "local: 4\n",
            " 13\n",
            "local: 4\n"
          ]
        }
      ],
      "source": [
        "import threading, time, multiprocessing\n",
        "\n",
        "global_num = 0\n",
        "def print_num():\n",
        "  global global_num\n",
        "  for local_num in range(5):\n",
        "    print('global:', global_num)\n",
        "    print('local:', local_num)\n",
        "    global_num += 1\n",
        "    time.sleep(0.01)\n",
        "    \n",
        "\n",
        "def one_thread():\n",
        "  thread = threading.Thread(target=print_num)\n",
        "  thread.start()\n",
        "  thread.join()\n",
        "  \n",
        "def multi_thread():\n",
        "  thread1 = threading.Thread(target=print_num)\n",
        "  thread2 = threading.Thread(target=print_num)\n",
        "  thread1.start()\n",
        "  thread2.start()\n",
        "  thread1.join()\n",
        "  thread2.join()\n",
        "\n",
        "one_thread()\n",
        "multi_thread()"
      ]
    },
    {
      "cell_type": "code",
      "execution_count": null,
      "metadata": {},
      "outputs": [],
      "source": []
    }
  ],
  "metadata": {
    "colab": {
      "provenance": []
    },
    "kernelspec": {
      "display_name": "Python 3",
      "name": "python3"
    },
    "language_info": {
      "codemirror_mode": {
        "name": "ipython",
        "version": 3
      },
      "file_extension": ".py",
      "mimetype": "text/x-python",
      "name": "python",
      "nbconvert_exporter": "python",
      "pygments_lexer": "ipython3",
      "version": "3.10.11"
    }
  },
  "nbformat": 4,
  "nbformat_minor": 0
}
